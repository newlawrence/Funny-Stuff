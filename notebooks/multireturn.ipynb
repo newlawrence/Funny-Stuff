{
 "cells": [
  {
   "cell_type": "code",
   "execution_count": 1,
   "metadata": {
    "collapsed": true
   },
   "outputs": [],
   "source": [
    "from functools import wraps, reduce"
   ]
  },
  {
   "cell_type": "code",
   "execution_count": 2,
   "metadata": {
    "collapsed": false
   },
   "outputs": [],
   "source": [
    "def multireturn(function):\n",
    "\n",
    "    function_returns = {}\n",
    "    function_returns['generator'] = lambda gen: gen\n",
    "    function_returns['list'] = lambda gen: list(gen)\n",
    "    function_returns['value'] = lambda gen: reduce(lambda a, b: b, gen)\n",
    "\n",
    "    @wraps(function)\n",
    "    def wrapper(*args, **kwargs):\n",
    "\n",
    "        mod_args = list(args)\n",
    "        returns = 'value'\n",
    "        if 'returns' in kwargs.keys():\n",
    "            returns = kwargs['returns']\n",
    "            del kwargs['returns']\n",
    "            mod_args[0] = (mod_args[0] - 1) \\\n",
    "                if returns in ['generator', 'list'] else mod_args[0]\n",
    "\n",
    "        try:\n",
    "            return function_returns[returns](function(*mod_args, **kwargs))\n",
    "        except KeyError:\n",
    "            raise ValueError('\"returns\" must be: \"value\", '\n",
    "                             '\"list\" or \"generator\"')\n",
    "\n",
    "    return wrapper"
   ]
  },
  {
   "cell_type": "code",
   "execution_count": 3,
   "metadata": {
    "collapsed": false
   },
   "outputs": [],
   "source": [
    "@multireturn\n",
    "def factorial(n):\n",
    "    a = 1\n",
    "    if n >= 0:\n",
    "        yield a\n",
    "    for i in range(1, n + 1):\n",
    "        a *= i\n",
    "        yield a\n",
    "\n",
    "@multireturn\n",
    "def fibonacci(n):\n",
    "    a, b = (0, 1)\n",
    "    if n >= 0:\n",
    "        yield a\n",
    "    for i in range(n):\n",
    "        a, b = b, a + b\n",
    "        yield a\n",
    "\n",
    "@multireturn\n",
    "def get_prime(n, found=[2, 3, 5, 7, 11, 13, 17]):\n",
    "    already = len(found)\n",
    "    for i in range(n + 1 if n < already else already):\n",
    "        yield found[i]\n",
    "    counter = found[-1] if already > 1 else 1\n",
    "    for i in range(already, n + 1):\n",
    "        while True:\n",
    "            counter += 2\n",
    "            prime = True\n",
    "            for number in found:\n",
    "                if counter % number == 0:\n",
    "                    prime = False\n",
    "                    break\n",
    "            if prime:\n",
    "                found.append(counter)\n",
    "                yield found[-1]\n",
    "                break"
   ]
  },
  {
   "cell_type": "code",
   "execution_count": null,
   "metadata": {
    "collapsed": true
   },
   "outputs": [],
   "source": []
  }
 ],
 "metadata": {
  "kernelspec": {
   "display_name": "Python 3",
   "language": "python",
   "name": "python3"
  },
  "language_info": {
   "codemirror_mode": {
    "name": "ipython",
    "version": 3
   },
   "file_extension": ".py",
   "mimetype": "text/x-python",
   "name": "python",
   "nbconvert_exporter": "python",
   "pygments_lexer": "ipython3",
   "version": "3.4.3"
  }
 },
 "nbformat": 4,
 "nbformat_minor": 0
}
