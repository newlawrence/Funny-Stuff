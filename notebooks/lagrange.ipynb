{
 "cells": [
  {
   "cell_type": "markdown",
   "metadata": {},
   "source": [
    "# Lagrange polynomial demo "
   ]
  },
  {
   "cell_type": "code",
   "execution_count": 1,
   "metadata": {
    "collapsed": true
   },
   "outputs": [],
   "source": [
    "import warnings\n",
    "warnings.filterwarnings('ignore')"
   ]
  },
  {
   "cell_type": "code",
   "execution_count": 2,
   "metadata": {
    "collapsed": false
   },
   "outputs": [],
   "source": [
    "%matplotlib inline\n",
    "import numpy as np\n",
    "from scipy.interpolate import lagrange\n",
    "import matplotlib.pyplot as plt\n",
    "from IPython.html.widgets import interactive"
   ]
  },
  {
   "cell_type": "code",
   "execution_count": 3,
   "metadata": {
    "collapsed": true
   },
   "outputs": [],
   "source": [
    "class lagrange_polynomial():\n",
    "    def __init__(self, n):\n",
    "        self.n = n\n",
    "        self.u = np.linspace(-1, 1, n)\n",
    "    def __call__(self, i):\n",
    "        self.v = np.zeros_like(self.u)\n",
    "        self.v[i] = 1\n",
    "        self.poly = lagrange(self.u, self.v).coeffs[::-1]\n",
    "        x = np.linspace(-1, 1)\n",
    "        y = np.zeros_like(x)\n",
    "        for j in range(self.poly.shape[0]):\n",
    "            y += self.poly[j] * x ** j\n",
    "        return x, y       "
   ]
  },
  {
   "cell_type": "code",
   "execution_count": 4,
   "metadata": {
    "collapsed": false,
    "scrolled": true
   },
   "outputs": [
    {
     "data": {
      "image/png": "[encoded data removed]",
      "text/plain": [
       "<matplotlib.figure.Figure at 0x107959908>"
      ]
     },
     "metadata": {},
     "output_type": "display_data"
    }
   ],
   "source": [
    "def plot_poly(n):\n",
    "    f = lagrange_polynomial(n)\n",
    "    plt.figure(figsize=[6, 6])\n",
    "    plt.title(r'Lagrange polynomial {}$^{{th}}$ order'.format(n),fontsize=16)\n",
    "    for i in range(n):\n",
    "        plt.plot(*f(i), linewidth=2)\n",
    "    x = np.linspace(-1, 1, n)\n",
    "    y = np.zeros_like(x)\n",
    "    plt.plot(x, y, 'ok', markersize=8)\n",
    "    y = np.ones_like(x)\n",
    "    plt.plot(x, y, 'ok', markersize=8)\n",
    "    plt.axis([-1.1, 1.1, -0.6, 1.6])\n",
    "    plt.xticks([-1, 0, 1])\n",
    "    plt.yticks([0, 1])\n",
    "    plt.tick_params(labelsize=16)\n",
    "    plt.gca().spines['left'].set_position('zero')\n",
    "    plt.gca().spines['right'].set_color('none')\n",
    "    plt.gca().spines['bottom'].set_position('zero')\n",
    "    plt.gca().spines['top'].set_color('none')\n",
    "    plt.grid()\n",
    "interactive(plot_poly,n=(2,5))"
   ]
  },
  {
   "cell_type": "code",
   "execution_count": 5,
   "metadata": {
    "collapsed": false
   },
   "outputs": [
    {
     "data": {
      "text/html": [
       "<script>\n",
       "code_show=true; \n",
       "function code_toggle() {\n",
       " if (code_show){\n",
       " $('div.input').hide();\n",
       " } else {\n",
       " $('div.input').show();\n",
       " }\n",
       " code_show = !code_show\n",
       "} \n",
       "$( document ).ready(code_toggle);\n",
       "</script>\n",
       "<form action=\"javascript:code_toggle()\"><input type=\"submit\" value=\"Click here to toggle on/off the raw code.\"></form>"
      ],
      "text/plain": [
       "<IPython.core.display.HTML object>"
      ]
     },
     "execution_count": 5,
     "metadata": {},
     "output_type": "execute_result"
    }
   ],
   "source": [
    "from IPython.display import HTML\n",
    "\n",
    "HTML('''<script>\n",
    "code_show=true; \n",
    "function code_toggle() {\n",
    " if (code_show){\n",
    " $('div.input').hide();\n",
    " } else {\n",
    " $('div.input').show();\n",
    " }\n",
    " code_show = !code_show\n",
    "} \n",
    "$( document ).ready(code_toggle);\n",
    "</script>\n",
    "<form action=\"javascript:code_toggle()\"><input type=\"submit\" value=\"Click here to toggle on/off the raw code.\"></form>''')"
   ]
  },
  {
   "cell_type": "code",
   "execution_count": null,
   "metadata": {
    "collapsed": true
   },
   "outputs": [],
   "source": []
  }
 ],
 "metadata": {
  "kernelspec": {
   "display_name": "Python 3",
   "language": "python",
   "name": "python3"
  },
  "language_info": {
   "codemirror_mode": {
    "name": "ipython",
    "version": 3
   },
   "file_extension": ".py",
   "mimetype": "text/x-python",
   "name": "python",
   "nbconvert_exporter": "python",
   "pygments_lexer": "ipython3",
   "version": "3.4.3"
  }
 },
 "nbformat": 4,
 "nbformat_minor": 0
}
