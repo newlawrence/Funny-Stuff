{
 "cells": [
  {
   "cell_type": "code",
   "execution_count": 1,
   "metadata": {},
   "outputs": [],
   "source": [
    "from collections import namedtuple\n",
    "import re"
   ]
  },
  {
   "cell_type": "code",
   "execution_count": 2,
   "metadata": {},
   "outputs": [],
   "source": [
    "Token = namedtuple('Token', ['category', 'name'])"
   ]
  },
  {
   "cell_type": "code",
   "execution_count": 3,
   "metadata": {},
   "outputs": [],
   "source": [
    "tokenizer = re.compile(\n",
    "    r'''\n",
    "       (?P<number>    (?:(?:NaN|Inf)|(?:(?:\\d+\\.?\\d*|\\.\\d+)(?:[eE][+\\-]?\\d+)?)) )|\n",
    "       (?P<name>      [A-Za-z_]+[A-Za-z_\\d]*                                    )|\n",
    "       (?P<operator>  (?:[^A-Za-z\\d.(),_\\s]|(?:\\.(?!\\d)))+                      )|\n",
    "       (?P<left>      \\(                                                        )|\n",
    "       (?P<right>     \\)                                                        )|\n",
    "       (?P<separator> ,                                                         )\n",
    "    ''',\n",
    "    re.VERBOSE\n",
    ")"
   ]
  },
  {
   "cell_type": "code",
   "execution_count": 4,
   "metadata": {},
   "outputs": [],
   "source": [
    "def tokenize(expression):\n",
    "    tokens = []\n",
    "    for match in re.finditer(tokenizer, expression):\n",
    "        tokens.append(Token(*next(filter(\n",
    "            lambda item: item[1] is not None,\n",
    "            match.groupdict().items()\n",
    "        ))))\n",
    "    return tokens"
   ]
  },
  {
   "cell_type": "code",
   "execution_count": 5,
   "metadata": {},
   "outputs": [
    {
     "name": "stdout",
     "output_type": "stream",
     "text": [
      "token:   1   category: number\n",
      "token:   +   category: operator\n",
      "token:   3   category: number\n",
      "token:   *   category: operator\n",
      "token: sin   category: name\n",
      "token:   (   category: left\n",
      "token:   2   category: number\n",
      "token:   *   category: operator\n",
      "token:  pi   category: name\n",
      "token:   *   category: operator\n",
      "token:   x   category: name\n",
      "token:   )   category: right\n"
     ]
    }
   ],
   "source": [
    "for token in tokenize(r\"1+3*sin(2*pi*x)\"):\n",
    "    print(f'token: {token.name:>3}   category: {token.category}')"
   ]
  },
  {
   "cell_type": "code",
   "execution_count": null,
   "metadata": {},
   "outputs": [],
   "source": []
  }
 ],
 "metadata": {
  "kernelspec": {
   "display_name": "Python 3",
   "language": "python",
   "name": "python3"
  },
  "language_info": {
   "codemirror_mode": {
    "name": "ipython",
    "version": 3
   },
   "file_extension": ".py",
   "mimetype": "text/x-python",
   "name": "python",
   "nbconvert_exporter": "python",
   "pygments_lexer": "ipython3",
   "version": "3.6.6"
  }
 },
 "nbformat": 4,
 "nbformat_minor": 2
}
