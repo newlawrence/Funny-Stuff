{
 "cells": [
  {
   "cell_type": "code",
   "execution_count": 1,
   "metadata": {
    "collapsed": true
   },
   "outputs": [],
   "source": [
    "import functools\n",
    "import contextlib"
   ]
  },
  {
   "cell_type": "code",
   "execution_count": 2,
   "metadata": {
    "collapsed": true
   },
   "outputs": [],
   "source": [
    "def args_in_caps(function):\n",
    "    @functools.wraps(function)\n",
    "    def wrapper(*args, **kwargs):\n",
    "        args_mod = []\n",
    "        for arg in args:\n",
    "            if hasattr(arg, 'upper'):\n",
    "                args_mod.append(arg.upper())\n",
    "            else:\n",
    "                args_mod.append(arg)\n",
    "        return function(*args_mod, **kwargs)\n",
    "    return wrapper"
   ]
  },
  {
   "cell_type": "code",
   "execution_count": 3,
   "metadata": {
    "collapsed": true
   },
   "outputs": [],
   "source": [
    "class print_in_caps1():\n",
    "\n",
    "    def __enter__(self):\n",
    "        global print\n",
    "        self.old_print = print\n",
    "        print = args_in_caps(print)\n",
    "\n",
    "    def __exit__(self, ex_typ, ex_val, ex_tr):\n",
    "        global print\n",
    "        print = self.old_print"
   ]
  },
  {
   "cell_type": "code",
   "execution_count": 4,
   "metadata": {
    "collapsed": true
   },
   "outputs": [],
   "source": [
    "@contextlib.contextmanager\n",
    "def print_in_caps2():\n",
    "    global print\n",
    "    try:\n",
    "        old_print = print\n",
    "        print = args_in_caps(print)\n",
    "        yield\n",
    "    finally:\n",
    "        print = old_print"
   ]
  },
  {
   "cell_type": "code",
   "execution_count": null,
   "metadata": {
    "collapsed": true
   },
   "outputs": [],
   "source": []
  }
 ],
 "metadata": {
  "kernelspec": {
   "display_name": "Python 3",
   "language": "python",
   "name": "python3"
  },
  "language_info": {
   "codemirror_mode": {
    "name": "ipython",
    "version": 3
   },
   "file_extension": ".py",
   "mimetype": "text/x-python",
   "name": "python",
   "nbconvert_exporter": "python",
   "pygments_lexer": "ipython3",
   "version": "3.4.3"
  }
 },
 "nbformat": 4,
 "nbformat_minor": 0
}
